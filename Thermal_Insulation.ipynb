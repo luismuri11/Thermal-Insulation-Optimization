{
 "cells": [
  {
   "cell_type": "markdown",
   "id": "e43e6395-cda8-4f72-ad55-bc18f5622753",
   "metadata": {
    "tags": []
   },
   "source": [
    "# Case Studies: Thermal Insulation Optimization"
   ]
  },
  {
   "cell_type": "code",
   "execution_count": 1,
   "id": "9dcc03f8-7a14-4a3b-8076-68adbed36cde",
   "metadata": {},
   "outputs": [],
   "source": [
    "#Import libraries\n",
    "\n",
    "import torch\n",
    "import torch.nn as nn\n",
    "import torch.optim as optim\n",
    "import matplotlib.pyplot as plt"
   ]
  },
  {
   "cell_type": "code",
   "execution_count": 2,
   "id": "309b6f6e-7c6b-451b-b014-a5e7a83700e9",
   "metadata": {},
   "outputs": [],
   "source": [
    "# Heat loss\n",
    "def heat_loss(x1, x2, x3):\n",
    "    Q = 1 / x1 + 1.5 / x2  + 2.0 / x3\n",
    "    return Q"
   ]
  },
  {
   "cell_type": "code",
   "execution_count": 3,
   "id": "7d443919-7eda-4327-83b8-cccf4c484945",
   "metadata": {},
   "outputs": [],
   "source": [
    "# Generate training dataset\n",
    "n_row = 50\n",
    "n_col = 50\n",
    "n_samples = n_row * n_col\n",
    "\n",
    "x1 = torch.zeros(n_samples, 1)\n",
    "x2 = torch.zeros(n_samples, 1)\n",
    "x3 = torch.zeros(n_samples, 1)\n",
    "\n",
    "x1_min, x1_max = 0.05, 0.25\n",
    "\n",
    "for i in range(n_samples):\n",
    "    row = int(i / n_col)\n",
    "    col = i - row * n_col\n",
    "    x1[i] = row * (x1_max - x1_min) / n_row + x1_min\n",
    "    \n",
    "    x2_min = 0.05\n",
    "    x2_max = 0.6 - 2 * x1[i] - 0.05\n",
    "    x2[i] =  col * (x2_max - x2_min) / n_col + x2_min\n",
    "    \n",
    "    x3[i] = 1.5 - 5 * x1[i] - 2.5 * x2[i]\n",
    "\n",
    "x3_min = min(x3)\n",
    "x3_max = max(x3)"
   ]
  },
  {
   "cell_type": "code",
   "execution_count": 4,
   "id": "f09f1668-f321-47ce-8758-c7a8a3f5f1d2",
   "metadata": {},
   "outputs": [],
   "source": [
    "# Normalize inputs and outputs\n",
    "def normalize(data, data_min, data_max):\n",
    "    return (data - data_min) / (data_max - data_min)\n",
    "\n",
    "def denormalize(data, data_min, data_max):\n",
    "    return data * (data_max - data_min) + data_min\n",
    "\n",
    "# Normalize data\n",
    "x1_norm = normalize(x1, x1_min, x1_max)\n",
    "x2_norm = normalize(x2, x2_min, x2_max)\n",
    "x3_norm = normalize(x3, x3_min, x3_max)\n",
    "Q = heat_loss(x1, x2, x3)\n",
    "Q_min, Q_max = Q.min(), Q.max()  # Save for denormalization\n",
    "Q_norm = normalize(Q, Q_min, Q_max)"
   ]
  },
  {
   "cell_type": "code",
   "execution_count": 5,
   "id": "c550ef3c-f21a-47b7-92ed-c590acca574d",
   "metadata": {},
   "outputs": [],
   "source": [
    "# Combine normalized inputs into a single tensor\n",
    "inputs_norm = torch.cat((x1_norm, x2_norm), dim=1)\n",
    "outputs_norm = Q_norm.view(-1, 1)"
   ]
  },
  {
   "cell_type": "code",
   "execution_count": 6,
   "id": "c4bbfd2e-d1b7-4b18-86d3-d334ad924040",
   "metadata": {},
   "outputs": [
    {
     "name": "stdout",
     "output_type": "stream",
     "text": [
      "Epoch [200/10000], Loss: 0.00868\n",
      "Epoch [400/10000], Loss: 0.00777\n",
      "Epoch [600/10000], Loss: 0.00654\n",
      "Epoch [800/10000], Loss: 0.00484\n",
      "Epoch [1000/10000], Loss: 0.00257\n",
      "Epoch [1200/10000], Loss: 0.00177\n",
      "Epoch [1400/10000], Loss: 0.00132\n",
      "Epoch [1600/10000], Loss: 0.00094\n",
      "Epoch [1800/10000], Loss: 0.00072\n",
      "Epoch [2000/10000], Loss: 0.00055\n",
      "Epoch [2200/10000], Loss: 0.00046\n",
      "Epoch [2400/10000], Loss: 0.00041\n",
      "Epoch [2600/10000], Loss: 0.00031\n",
      "Epoch [2800/10000], Loss: 0.00059\n",
      "Epoch [3000/10000], Loss: 0.00025\n",
      "Epoch [3200/10000], Loss: 0.00023\n",
      "Epoch [3400/10000], Loss: 0.00028\n",
      "Epoch [3600/10000], Loss: 0.00022\n",
      "Epoch [3800/10000], Loss: 0.00025\n",
      "Epoch [4000/10000], Loss: 0.00019\n",
      "Epoch [4200/10000], Loss: 0.00028\n",
      "Epoch [4400/10000], Loss: 0.00017\n",
      "Epoch [4600/10000], Loss: 0.00018\n",
      "Epoch [4800/10000], Loss: 0.00027\n",
      "Epoch [5000/10000], Loss: 0.00019\n",
      "Epoch [5200/10000], Loss: 0.00017\n",
      "Epoch [5400/10000], Loss: 0.00016\n",
      "Epoch [5600/10000], Loss: 0.00014\n",
      "Epoch [5800/10000], Loss: 0.00020\n",
      "Epoch [6000/10000], Loss: 0.00022\n",
      "Epoch [6200/10000], Loss: 0.00013\n",
      "Epoch [6400/10000], Loss: 0.00013\n",
      "Epoch [6600/10000], Loss: 0.00038\n",
      "Epoch [6800/10000], Loss: 0.00012\n",
      "Epoch [7000/10000], Loss: 0.00030\n",
      "Epoch [7200/10000], Loss: 0.00029\n",
      "Epoch [7400/10000], Loss: 0.00022\n",
      "Epoch [7600/10000], Loss: 0.00029\n",
      "Epoch [7800/10000], Loss: 0.00012\n",
      "Epoch [8000/10000], Loss: 0.00021\n",
      "Epoch [8200/10000], Loss: 0.00031\n",
      "Epoch [8400/10000], Loss: 0.00010\n",
      "Epoch [8600/10000], Loss: 0.00027\n",
      "Epoch [8800/10000], Loss: 0.00014\n",
      "Epoch [9000/10000], Loss: 0.00009\n",
      "Epoch [9200/10000], Loss: 0.00010\n",
      "Epoch [9400/10000], Loss: 0.00022\n",
      "Epoch [9600/10000], Loss: 0.00019\n",
      "Epoch [9800/10000], Loss: 0.00026\n",
      "Epoch [10000/10000], Loss: 0.00018\n"
     ]
    },
    {
     "data": {
      "image/png": "[encoded data removed]",
      "text/plain": [
       "<Figure size 800x500 with 1 Axes>"
      ]
     },
     "metadata": {},
     "output_type": "display_data"
    }
   ],
   "source": [
    "# Define a neural network model\n",
    "class SurrogateModel(nn.Module):\n",
    "    def __init__(self):\n",
    "        super(SurrogateModel, self).__init__()\n",
    "        self.fc1 = nn.Linear(2, 20)\n",
    "        self.fc2 = nn.Linear(20, 20)\n",
    "        self.fc3 = nn.Linear(20, 1)\n",
    "    \n",
    "    def forward(self, x):\n",
    "        x = torch.relu(self.fc1(x))\n",
    "        x = torch.relu(self.fc2(x))\n",
    "        x = self.fc3(x)\n",
    "        return x\n",
    "\n",
    "# Initialize the model, loss function, and optimizer\n",
    "model = SurrogateModel()\n",
    "criterion = nn.MSELoss()\n",
    "optimizer = optim.Adam(model.parameters(), lr=0.002)\n",
    "\n",
    "# Train the model\n",
    "n_epochs = 10000\n",
    "loss_history = []\n",
    "\n",
    "for epoch in range(n_epochs):\n",
    "    model.train()\n",
    "    optimizer.zero_grad()\n",
    "    \n",
    "    # Forward pass\n",
    "    predictions = model(inputs_norm)\n",
    "    loss = criterion(predictions, outputs_norm)\n",
    "    loss.backward()\n",
    "    optimizer.step()\n",
    "    \n",
    "    loss_history.append(loss.item())\n",
    "    if (epoch + 1) % 200 == 0:\n",
    "        print(f'Epoch [{epoch+1}/{n_epochs}], Loss: {loss.item():.5f}')\n",
    "\n",
    "# Plot the training loss\n",
    "plt.figure(figsize=(8, 5))\n",
    "plt.plot(loss_history, label='Training Loss')\n",
    "plt.xlabel('Epoch')\n",
    "plt.ylabel('Loss')\n",
    "plt.title('Training Loss Curve')\n",
    "plt.legend()\n",
    "plt.grid(True)\n",
    "plt.show()"
   ]
  },
  {
   "cell_type": "code",
   "execution_count": 7,
   "id": "d1a690e5-e018-4815-bb49-501fd26b7f03",
   "metadata": {},
   "outputs": [
    {
     "name": "stdout",
     "output_type": "stream",
     "text": [
      "Iteration [500/4000], Predicted Q: 20.8513, x_opt: [ 0.36325818 17.356335  ]\n",
      "Iteration [1000/4000], Predicted Q: 20.7775, x_opt: [ 0.37796986 17.373903  ]\n",
      "Iteration [1500/4000], Predicted Q: 20.9092, x_opt: [ 0.4383236 17.433475 ]\n",
      "Iteration [2000/4000], Predicted Q: 20.8848, x_opt: [ 0.38297898 17.2519    ]\n",
      "Iteration [2500/4000], Predicted Q: 20.8777, x_opt: [ 0.44822955 17.434265  ]\n",
      "Iteration [3000/4000], Predicted Q: 20.7490, x_opt: [ 0.37634966 17.43454   ]\n",
      "Iteration [3500/4000], Predicted Q: 20.6349, x_opt: [ 0.3506264 17.6009   ]\n",
      "Iteration [4000/4000], Predicted Q: 20.7110, x_opt: [ 0.392649 17.376745]\n",
      "x1= 0.13\n",
      "x2= 0.19\n",
      "x3= 0.38\n"
     ]
    }
   ],
   "source": [
    "# Initial guess for optimization\n",
    "x_opt = torch.tensor([0.5, 0.5], requires_grad=True)\n",
    "\n",
    "# Optimizer for the optimization process\n",
    "optimizer = optim.Adam([x_opt], lr=0.2)\n",
    "\n",
    "# Optimization loop\n",
    "n_iterations = 4000\n",
    "for iteration in range(n_iterations):\n",
    "    optimizer.zero_grad()\n",
    "    \n",
    "    # Predict normalized Q\n",
    "    Q_pred_norm = model(x_opt)\n",
    "    Q_pred = denormalize(Q_pred_norm, Q_min, Q_max)  # Denormalize for penalty calculation\n",
    "    \n",
    "    # Denormalize inputs\n",
    "    x1_denorm = denormalize(x_opt[0], x1_min, x1_max)\n",
    "    x2_denorm = denormalize(x_opt[1], x2_min, x2_max)\n",
    "    \n",
    "    # Loss for minimization\n",
    "    loss = Q_pred\n",
    "    loss.backward()\n",
    "    optimizer.step()\n",
    "    \n",
    "    if (iteration + 1) % 500 == 0:\n",
    "        print(f'Iteration [{iteration + 1}/{n_iterations}], Predicted Q: {Q_pred.item():.4f}, x_opt: {x_opt.data.numpy()}')\n",
    "\n",
    "# Final optimized values (denormalized)\n",
    "x1_opt = denormalize(x_opt[0].detach(), x1_min, x1_max)\n",
    "x2_opt = denormalize(x_opt[1].detach(), x2_min, x2_max)\n",
    "\n",
    "print(f'x1= {x1_opt.item():.2f}')\n",
    "print(f'x2= {x2_opt.item():.2f}')\n",
    "print(f'x3= {1.5 - 5 * x1_opt.item() - 2.5 * x2_opt.item():.2f}')"
   ]
  }
 ],
 "metadata": {
  "kernelspec": {
   "display_name": "Python 3 (ipykernel)",
   "language": "python",
   "name": "python3"
  },
  "language_info": {
   "codemirror_mode": {
    "name": "ipython",
    "version": 3
   },
   "file_extension": ".py",
   "mimetype": "text/x-python",
   "name": "python",
   "nbconvert_exporter": "python",
   "pygments_lexer": "ipython3",
   "version": "3.10.6"
  }
 },
 "nbformat": 4,
 "nbformat_minor": 5
}
